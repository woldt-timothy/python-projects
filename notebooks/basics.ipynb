{
 "cells": [
  {
   "cell_type": "code",
   "execution_count": null,
   "id": "dbae8904-ae64-4794-9cde-0f622b586c01",
   "metadata": {},
   "outputs": [],
   "source": []
  }
 ],
 "metadata": {
  "kernelspec": {
   "display_name": "",
   "name": ""
  },
  "language_info": {
   "name": ""
  }
 },
 "nbformat": 4,
 "nbformat_minor": 5
}
